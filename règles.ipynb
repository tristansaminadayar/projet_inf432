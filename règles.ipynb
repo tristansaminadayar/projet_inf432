{
 "cells": [
  {
   "cell_type": "markdown",
   "source": [
    "Star battle game\n",
    "================\n",
    "\n",
    "## Rules of the game\n",
    "\n",
    "This game is played on a grid that is separated into different zones.\n",
    "Place two stars, the size of one square, in each column, each row,\n",
    "and each black-edged region of the grid. The stars do not touch each\n",
    "other, not even diagonally.\n",
    "\n",
    "We have some rules:\n",
    " 1. There are two stars in each column.\n",
    " 2. There are two stars in each row.\n",
    " 3. There are two stars in each black-edged region.\n",
    " 4. Two stars do not touch each other, not even diagonally.\n",
    "\n",
    "\n",
    "![](img_empty_grid.png \"Grille vide\") | ![](img_grid_full.png \"Grille pleine\")"
   ],
   "metadata": {
    "collapsed": false,
    "pycharm": {
     "name": "#%% md\n"
    }
   }
  },
  {
   "cell_type": "markdown",
   "source": [
    "## Formalisation du projet en logique\n",
    "\n",
    "The variables will be defined by $E_{i,j} \\rightarrow \\exists * \\text{ at } (i,j)$ and $Z_{i,j,k} \\rightarrow (i,j) \\in k$\n",
    "\n",
    " - The indice $i$ represents the number of the column.\n",
    " - The indice $j$ represents the number of the row.\n",
    " - The indice $k$ represents the number of the black-edged region.\n",
    "\n",
    " - The variable $E_{i,j}$ is true if there is a star at the position (i,j).\n",
    " - The variable $Z_{i,j,k}$ is true if the position (i,j) is in the black-edged region $k$.\n",
    "\n",
    "$n$ will be the size of the grid.\n",
    "\n",
    "#### Règle 1 : 2 étoiles par ligne\n",
    "\n",
    "$$\\forall i,\\ \\forall S \\subseteq [\\![1,n]\\!],\\ |S| = 2,\\ \\prod_{j \\in S} E_{i,j}.\\prod_{j \\in [\\![1,n]\\!] \\setminus S} \\overline{E_{i,j}}   $$\n",
    "\n",
    "#### Règle 2 : 2 étoiles pas colonne\n",
    "\n",
    "$$\\forall j,\\ \\forall S \\subseteq [\\![1,n]\\!],\\ |S| = 2,\\ \\prod_{i \\in S} E_{i,j}.\\prod_{i \\in [\\![1,n]\\!] \\setminus S} \\overline{E_{i,j}}  $$\n",
    "\n",
    "#### Règle 3 : 2 étoiles par zone\n",
    "\n",
    "$$\\forall k,\\ \\sum_{\\begin{array} \\\\S \\in ([\\![1,n]\\!])^2 \\\\ |S| = 2 \\end{array}} \\prod_{(i,j) \\in S} E_{i,j}.Z_{i,j,k} \\prod_{(i,j) \\in [\\![1,n]\\!] \\setminus S} \\overline{E_{i,j}}.Z_{i,j,k}$$\n",
    "\n",
    "#### Règle 4 : Si étoile, pas de voisin\n",
    "\n",
    "$$\\prod_{i \\in [\\![0,9]\\!]} \\prod_{j \\in [\\![0,9]\\!]} \\overline{E_{i, j}} + ( E_{i, j} . \\overline{E_{i,j + 1}} . \\overline{E_{i,j-1}} . \\overline{E_{i - 1,j + 1}} . \\overline{E_{i - 1,j-1}} . \\overline{E_{i + 1,j + 1}} . \\overline{E_{i + 1,j-1}} . \\overline{E_{i - 1,j}} . \\overline{E_{i + 1,j}})$$"
   ],
   "metadata": {
    "collapsed": false,
    "pycharm": {
     "name": "#%% md\n"
    }
   }
  }
 ],
 "metadata": {
  "kernelspec": {
   "display_name": "Python 3",
   "language": "python",
   "name": "python3"
  },
  "language_info": {
   "codemirror_mode": {
    "name": "ipython",
    "version": 2
   },
   "file_extension": ".py",
   "mimetype": "text/x-python",
   "name": "python",
   "nbconvert_exporter": "python",
   "pygments_lexer": "ipython2",
   "version": "2.7.6"
  }
 },
 "nbformat": 4,
 "nbformat_minor": 0
}