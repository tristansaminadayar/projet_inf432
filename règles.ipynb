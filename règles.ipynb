{
 "cells": [
  {
   "cell_type": "markdown",
   "metadata": {
    "collapsed": true,
    "pycharm": {
     "name": "#%% md\n"
    }
   },
   "source": [
    "Formalisation du projet de logique\n",
    "==============\n",
    "\n",
    "Les variables seront définie par $E_{i,j,\\{k, *\\}}$ avec $i,j,k \\in [\\![0, 9]\\!]$\n",
    "\n",
    " - L'indice $i$ représente le numéro de ligne\n",
    " - L'indice $j$ représente le numéro de colonne\n",
    " - L'indice $k$ représente le numéro de zone\n",
    " - L'indice $*$ représente la présence d'une étoile\n",
    "\n",
    "### Règle 1 : 2 étoiles par ligne\n",
    "\n",
    "$$\\bigwedge_{i \\in [\\![0,9]\\!]} \\bigoplus_{j \\in [\\![0,9]\\!]} \\bigoplus_{j' \\in ]\\!]j,9]\\!]} E_{i, j, *} \\land E_{i,j', *} $$\n",
    "\n",
    "### Règle 2 : 2 étoiles pas colonne\n",
    "\n",
    "$$\\bigwedge_{j \\in [\\![0,9]\\!]} \\bigoplus_{i \\in [\\![0,9]\\!]} \\bigoplus_{i' \\in ]\\!]i,9]\\!]} E_{i, j, *} \\land E_{i',j, *} $$\n",
    "\n",
    "### Règle 3 : 2 étoiles par zone\n",
    "\n",
    "$$\\bigwedge_{k \\in [\\![0,9]\\!]} \\bigoplus_{i \\in [\\![0,9]\\!]} \\bigoplus_{j \\in [\\![0,9]\\!]} \\bigoplus_{i' \\in ]\\!]i,9]\\!]} \\bigoplus_{j' \\in ]\\!]j,9]\\!]} E_{i, j, *} \\land E_{i',j', *} \\land E_{i',j', k} \\land E_{i,j, k}$$\n",
    "\n",
    "### Règle 4 : Si étoile, pas de voisin\n",
    "\n",
    "$$\\bigwedge_{i \\in [\\![0,9]\\!]} \\bigwedge_{j \\in [\\![0,9]\\!]} \\neg E_{i, j, *} \\lor ( E_{i, j, *} \\land \\neg E_{i,j + 1,*} \\land \\neg E_{i,j-1,*} \\land \\neg E_{i - 1,j + 1,*} \\land \\neg E_{i - 1,j-1,*} \\land \\neg E_{i + 1,j + 1,*} \\land \\neg E_{i + 1,j-1,*} \\land \\neg E_{i - 1,j,*} \\land \\neg E_{i + 1,j,*} )$$"
   ]
  },
  {
   "cell_type": "code",
   "execution_count": null,
   "outputs": [],
   "source": [],
   "metadata": {
    "collapsed": false,
    "pycharm": {
     "name": "#%%\n"
    }
   }
  }
 ],
 "metadata": {
  "kernelspec": {
   "display_name": "Python 3",
   "language": "python",
   "name": "python3"
  },
  "language_info": {
   "codemirror_mode": {
    "name": "ipython",
    "version": 2
   },
   "file_extension": ".py",
   "mimetype": "text/x-python",
   "name": "python",
   "nbconvert_exporter": "python",
   "pygments_lexer": "ipython2",
   "version": "2.7.6"
  }
 },
 "nbformat": 4,
 "nbformat_minor": 0
}