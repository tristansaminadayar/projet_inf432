{
 "cells": [
  {
   "cell_type": "markdown",
   "source": [
    "### Imports"
   ],
   "metadata": {
    "collapsed": false,
    "pycharm": {
     "name": "#%% md\n"
    }
   }
  },
  {
   "cell_type": "code",
   "execution_count": 48,
   "outputs": [],
   "source": [
    "import os\n",
    "from itertools import combinations\n",
    "from typing import List, NoReturn"
   ],
   "metadata": {
    "collapsed": false,
    "pycharm": {
     "name": "#%%\n"
    }
   }
  },
  {
   "cell_type": "markdown",
   "source": [
    "### Types"
   ],
   "metadata": {
    "collapsed": false,
    "pycharm": {
     "name": "#%% md\n"
    }
   }
  },
  {
   "cell_type": "code",
   "execution_count": 49,
   "outputs": [],
   "source": [
    "variable = int\n",
    "list_of_variable = List[variable]\n",
    "clauses = List[variable]\n",
    "set_of_clauses = List[clauses]"
   ],
   "metadata": {
    "collapsed": false,
    "pycharm": {
     "name": "#%%\n"
    }
   }
  },
  {
   "cell_type": "markdown",
   "source": [
    "### Logic functions"
   ],
   "metadata": {
    "collapsed": false,
    "pycharm": {
     "name": "#%% md\n"
    }
   }
  },
  {
   "cell_type": "code",
   "execution_count": 60,
   "outputs": [],
   "source": [
    "def get_CNF_n_true_among(values: list_of_variable, n: int) -> set_of_clauses:\n",
    "    \"\"\"\n",
    "    Returns the CNF equivalent to two true variables from the list provided in parameter\n",
    "\n",
    "    Parameters\n",
    "    ----------\n",
    "    values : int\n",
    "        List of logic variables\n",
    "    n : int\n",
    "        Number of true variables\n",
    "\n",
    "    \"\"\"\n",
    "    if len(values) < n:\n",
    "        raise ValueError(f\"The size of the list must be at least {n}.\")\n",
    "\n",
    "    close: set_of_clauses = []\n",
    "\n",
    "    for j in range(len(values) + 1):\n",
    "        if j != n:\n",
    "            for cmb in combinations(values, j):\n",
    "                close.append([-k if k in cmb else k for k in values])\n",
    "    return close\n",
    "\n",
    "\n",
    "def get_CNF_no_true_among_neighbor(var: variable, neighbor: list_of_variable) -> set_of_clauses:\n",
    "    \"\"\"\n",
    "    Returns the CNF equivalent to no true variable among the neighbor of the variable provided in parameter\n",
    "\n",
    "    Parameters\n",
    "    ----------\n",
    "    var : list_of_variable\n",
    "        Initial variable\n",
    "    neighbor : list_of_variable\n",
    "        List of neighboor of the inital variable\n",
    "\n",
    "    \"\"\"\n",
    "    ret: set_of_clauses = []\n",
    "\n",
    "    for var_neighbor in neighbor:\n",
    "        ret.append([-var, -var_neighbor])\n",
    "\n",
    "    return ret"
   ],
   "metadata": {
    "collapsed": false,
    "pycharm": {
     "name": "#%%\n"
    }
   }
  },
  {
   "cell_type": "markdown",
   "source": [
    "### IO functions"
   ],
   "metadata": {
    "collapsed": false,
    "pycharm": {
     "name": "#%% md\n"
    }
   }
  },
  {
   "cell_type": "code",
   "execution_count": 61,
   "outputs": [],
   "source": [
    "class LireGrille:\n",
    "    def __init__(self, path: str):\n",
    "        \"\"\"\n",
    "        Read the grid of Starbattle game file given in parameter\n",
    "        \"\"\"\n",
    "        with open(path, \"r\") as f:  # open the file and read it\n",
    "            self.data = f.read()\n",
    "\n",
    "        self.grid: List[List[str]] = [line.split(\" \") for line in self.data.strip().split(\"\\n\")]\n",
    "\n",
    "        self.dim: int = len(self.grid[0])  # get the number of columns in the grid\n",
    "\n",
    "    def get_line(self, line_number: int) -> list_of_variable:\n",
    "        \"\"\"\n",
    "        Return all variables of the line given in parameter\n",
    "\n",
    "        \"\"\"\n",
    "        valeur_deb = (line_number - 1) * self.dim + 1\n",
    "\n",
    "        return list(range(valeur_deb, valeur_deb + self.dim))\n",
    "\n",
    "    def get_column(self, col_number: int) -> list_of_variable:\n",
    "        \"\"\"\n",
    "        Return all variables of the column given in parameter\n",
    "\n",
    "        \"\"\"\n",
    "        return list(range(col_number, self.dim ** 2 + 1, self.dim))\n",
    "\n",
    "    def get_zone(self, zone_number: int) -> list_of_variable:\n",
    "        \"\"\"\n",
    "        Return all variables of the zone given in parameter\n",
    "        \"\"\"\n",
    "        zone: list_of_variable = []\n",
    "        k: int = 1\n",
    "        for line in self.grid:\n",
    "            for elt in line:\n",
    "                if int(elt) == zone_number:\n",
    "                    zone.append(k)\n",
    "                k += 1\n",
    "        return zone\n",
    "\n",
    "    def get_neighbor(self, var: int) -> list_of_variable:\n",
    "        \"\"\"\n",
    "        Return all variables of the neighbor of the variable given in parameter\n",
    "        \"\"\"\n",
    "\n",
    "        l = [var + 1, var - 1, var - self.dim, var + self.dim, var - self.dim - 1,\n",
    "             var - self.dim + 1, var + self.dim - 1, var + self.dim + 1]\n",
    "\n",
    "        if var % self.dim == 1:  # if the variable is in the first column\n",
    "            l.remove(var - 1)\n",
    "            l.remove(var + self.dim - 1)\n",
    "            l.remove(var - self.dim - 1)\n",
    "\n",
    "        elif var % self.dim == 0:  # if the variable is in the last column\n",
    "            l.remove(var + 1)\n",
    "            l.remove(var + self.dim + 1)\n",
    "            l.remove(var - self.dim + 1)\n",
    "\n",
    "        if var <= self.dim:  # if the variable is in the first line\n",
    "            if var % self.dim != 1:\n",
    "                l.remove(var - self.dim - 1)\n",
    "            if var % self.dim != 0:\n",
    "                l.remove(var - self.dim + 1)\n",
    "            l.remove(var - self.dim)\n",
    "\n",
    "        elif var > self.dim * (self.dim - 1):  # if the variable is in the last line\n",
    "            if var % self.dim != 1:\n",
    "                l.remove(var + self.dim - 1)\n",
    "            if var % self.dim != 0:\n",
    "                l.remove(var + self.dim + 1)\n",
    "            l.remove(var + self.dim)\n",
    "\n",
    "        return l\n",
    "\n",
    "    def get_dimension(self) -> int:\n",
    "        \"\"\"\n",
    "        Return the number of lines/column/zone in the grid\n",
    "        \"\"\"\n",
    "        return self.dim\n"
   ],
   "metadata": {
    "collapsed": false,
    "pycharm": {
     "name": "#%%\n"
    }
   }
  },
  {
   "cell_type": "markdown",
   "source": [
    "### Parent functions"
   ],
   "metadata": {
    "collapsed": false,
    "pycharm": {
     "name": "#%% md\n"
    }
   }
  },
  {
   "cell_type": "code",
   "execution_count": 127,
   "outputs": [],
   "source": [
    "def get_battle_star_clauses(grid: LireGrille, n: int) -> set_of_clauses:\n",
    "    \"\"\"\n",
    "    Returns the CNF equivalent to the Starbattle game\n",
    "\n",
    "    Parameters\n",
    "    ----------\n",
    "    grid : Lire_grille\n",
    "        Grid of the Starbattle game\n",
    "    n : int\n",
    "        Number of star by line/column/zone\n",
    "\n",
    "    \"\"\"\n",
    "    ret: set_of_clauses = []\n",
    "\n",
    "    for i in range(1, grid.get_dimension() + 1):\n",
    "        ret.extend(get_CNF_n_true_among(grid.get_zone(i), n))\n",
    "        ret.extend(get_CNF_n_true_among(grid.get_line(i), n))\n",
    "        ret.extend(get_CNF_n_true_among(grid.get_column(i), n))\n",
    "\n",
    "    for i in range(1, grid.get_dimension() ** 2 + 1):\n",
    "        ret.extend(get_CNF_no_true_among_neighbor(i, grid.get_neighbor(i)))\n",
    "\n",
    "    return ret\n",
    "\n",
    "\n",
    "def write_DIMAC_clause(path: str, clauses_list: set_of_clauses, nb_of_variable: int) -> NoReturn:\n",
    "    \"\"\"\n",
    "    Write the clause in DIMAC format in the file given in parameter\n",
    "\n",
    "    Parameters\n",
    "    ----------\n",
    "    path : str\n",
    "        Path of the file where the clause will be written\n",
    "    clauses_list : set_of_clauses\n",
    "        Clauses to write in DIMAC format\n",
    "    nb_of_variable : int\n",
    "        Number of variable of the grid\n",
    "    \"\"\"\n",
    "\n",
    "    with open(path, 'w') as f:\n",
    "        f.write(f\"p cnf {nb_of_variable} {len(clauses_list)}\\n\")\n",
    "        for clause in clauses_list:\n",
    "            for var in clause:\n",
    "                f.write(f\"{var} \")\n",
    "            f.write(\"0\\n\")\n",
    "\n",
    "\n",
    "def convert_NSAT_to_3SAT(path: str) -> NoReturn:\n",
    "    \"\"\"\n",
    "    Convert the NSAT file given in parameter to a 3SAT file\n",
    "\n",
    "    Parameters\n",
    "    ----------\n",
    "    path : str\n",
    "        Path of the NSAT file\n",
    "    \"\"\"\n",
    "    with open(path, 'r') as f:\n",
    "        lines = f.readlines()\n",
    "\n",
    "    maxvalue: int = int(lines[0].split()[2])\n",
    "    nb_of_clauses: int = int(lines[0].split()[3])\n",
    "    cnf: set_of_clauses = [list(map(int, lines[i].split()[:-1])) for i in range(1, nb_of_clauses + 1)]\n",
    "\n",
    "    new_cnf: set_of_clauses = []\n",
    "    for clause in cnf:\n",
    "        if len(clause) == 1:\n",
    "            maxvalue += 2\n",
    "            new_cnf.extend([[x1 := clause[0], y1 := maxvalue, y2 := maxvalue - 1],\n",
    "                            [x1, y1, -y2],\n",
    "                            [x1, -y1, y2],\n",
    "                            [x1, -y1, -y2]])\n",
    "        elif len(clause) == 2:\n",
    "            maxvalue += 1\n",
    "            new_cnf.extend([[x1 := clause[0], x2 := clause[1], y1 := maxvalue],\n",
    "                            [x1, x2, -y1]])\n",
    "        else:\n",
    "            while len(clause) > 3:\n",
    "                new_clause: clause = []\n",
    "                for i in range(0, len(clause), 2):\n",
    "                    if i + 1 < len(clause):\n",
    "                        maxvalue += 1\n",
    "                        new_cnf.append([clause[i], clause[i + 1], -maxvalue])\n",
    "                        new_clause.append(maxvalue)\n",
    "                    else:\n",
    "                        new_clause.append(clause[i])\n",
    "                clause = new_clause\n",
    "            new_cnf.append(clause)\n",
    "\n",
    "    os.remove(path)\n",
    "    write_DIMAC_clause(path, new_cnf, maxvalue)\n",
    "\n",
    "\n",
    "def run_sat_solver(path: str, n: int, convert_to_3sat: bool = False) -> list_of_variable:\n",
    "    \"\"\"\n",
    "    Run the SAT solver on the clauses of the Starbattle game and return the result\n",
    "\n",
    "    Parameters\n",
    "    ----------\n",
    "    path : str\n",
    "        Path of the file where the clause is written\n",
    "    n : int\n",
    "        Number of star by line/column/zone\n",
    "    convert_to_3sat: bool\n",
    "        If True, convert the clauses to 3SAT clauses\n",
    "\n",
    "    Returns\n",
    "    -------\n",
    "    list_of_variable\n",
    "        List of the true variable of the grid (if the grid is solved)\n",
    "    \"\"\"\n",
    "\n",
    "    grid: LireGrille = LireGrille(path)\n",
    "    starbattle_clauses: set_of_clauses = get_battle_star_clauses(grid, n)\n",
    "    write_DIMAC_clause(path.split(\".\")[-2] + \".dimac\", starbattle_clauses, grid.get_dimension() ** 2)\n",
    "    if convert_to_3sat:\n",
    "        convert_NSAT_to_3SAT(path.split(\".\")[-2] + \".dimac\")\n",
    "\n",
    "    if os.name == 'nt':\n",
    "        ret_state = os.system(f\"wsl -- minisat {path.split('.')[-2] + '.dimac'} {path.split('.')[-2] + '.solved'}\")\n",
    "    else:\n",
    "        ret_state = os.system(f\"minisat {path.split('.')[-2] + '.dimac'} {path.split('.')[-2] + '.solved'}\")\n",
    "\n",
    "    if ret_state == 20:\n",
    "        raise ValueError(\"The SAT solver returned a UNSAT problem\")\n",
    "    if ret_state != 10:\n",
    "        raise ValueError(\"The SAT solver returned an error\")\n",
    "\n",
    "    with open(path.split(\".\")[-2] + \".solved\", \"r\") as f:\n",
    "        lines = f.readlines()\n",
    "\n",
    "    data = [var for item in lines[1].split() if abs(var := int(item)) <= grid.get_dimension() ** 2 and var > 0]\n",
    "    return data"
   ],
   "metadata": {
    "collapsed": false,
    "pycharm": {
     "name": "#%%\n"
    }
   }
  },
  {
   "cell_type": "code",
   "execution_count": 131,
   "outputs": [
    {
     "name": "stdout",
     "output_type": "stream",
     "text": [
      "CPU times: total: 484 ms\n",
      "Wall time: 5.59 s\n"
     ]
    },
    {
     "data": {
      "text/plain": "[6, 8, 10, 12, 23, 25, 30, 36, 37, 41, 52, 54, 56, 58, 69, 71, 74, 76]"
     },
     "execution_count": 131,
     "metadata": {},
     "output_type": "execute_result"
    }
   ],
   "source": [
    "%%time\n",
    "run_sat_solver(\"Exemples/test1.txt\", 2, False)"
   ],
   "metadata": {
    "collapsed": false,
    "pycharm": {
     "name": "#%%\n"
    }
   }
  },
  {
   "cell_type": "code",
   "execution_count": null,
   "outputs": [],
   "source": [],
   "metadata": {
    "collapsed": false,
    "pycharm": {
     "name": "#%%\n"
    }
   }
  }
 ],
 "metadata": {
  "kernelspec": {
   "display_name": "Python 3",
   "language": "python",
   "name": "python3"
  },
  "language_info": {
   "codemirror_mode": {
    "name": "ipython",
    "version": 2
   },
   "file_extension": ".py",
   "mimetype": "text/x-python",
   "name": "python",
   "nbconvert_exporter": "python",
   "pygments_lexer": "ipython2",
   "version": "2.7.6"
  }
 },
 "nbformat": 4,
 "nbformat_minor": 0
}