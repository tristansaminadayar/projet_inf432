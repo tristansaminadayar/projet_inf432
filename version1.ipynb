{
 "cells": [
  {
   "cell_type": "markdown",
   "source": [
    "### Imports"
   ],
   "metadata": {
    "collapsed": false,
    "pycharm": {
     "name": "#%% md\n"
    }
   }
  },
  {
   "cell_type": "code",
   "execution_count": 1,
   "outputs": [],
   "source": [
    "from itertools import combinations\n",
    "from typing import List, NoReturn"
   ],
   "metadata": {
    "collapsed": false,
    "pycharm": {
     "name": "#%%\n"
    }
   }
  },
  {
   "cell_type": "markdown",
   "source": [
    "### Types"
   ],
   "metadata": {
    "collapsed": false,
    "pycharm": {
     "name": "#%% md\n"
    }
   }
  },
  {
   "cell_type": "code",
   "execution_count": 2,
   "outputs": [],
   "source": [
    "variable = int\n",
    "\n",
    "list_of_variable = List[variable]\n",
    "clauses = List[variable]\n",
    "set_of_clauses = List[clauses]"
   ],
   "metadata": {
    "collapsed": false,
    "pycharm": {
     "name": "#%%\n"
    }
   }
  },
  {
   "cell_type": "code",
   "execution_count": 31,
   "outputs": [],
   "source": [
    "def get_CNF_n_true_among(values: list_of_variable, n: int) -> set_of_clauses:\n",
    "    \"\"\"\n",
    "    Returns the CNF equivalent to two true variables from the list provided in parameter\n",
    "\n",
    "    Parameters\n",
    "    ----------\n",
    "    values : int\n",
    "        List of logic variables\n",
    "    n : int\n",
    "        Number of true variables\n",
    "\n",
    "    \"\"\"\n",
    "    if len(values) < n:\n",
    "        raise ValueError(\"The size of the list must be at least 2.\")\n",
    "\n",
    "    close: set_of_clauses = []\n",
    "\n",
    "    for j in range(len(values) + 1):\n",
    "        if j != n:\n",
    "            for cmb in combinations(values, j):\n",
    "                close.append([-k if k in cmb else k for k in values])\n",
    "    return close\n",
    "\n",
    "def get_CNF_no_true_among_neighbor(var: variable, neighbor: list_of_variable) -> set_of_clauses:\n",
    "    \"\"\"\n",
    "    Returns the CNF equivalent to no true variable among the neighbor of the variable provided in parameter\n",
    "\n",
    "    Parameters\n",
    "    ----------\n",
    "    var : list_of_variable\n",
    "        Initial variable\n",
    "    neighbor : list_of_variable\n",
    "        List of neighboor of the inital variable\n",
    "\n",
    "    \"\"\"\n",
    "    ret: set_of_clauses = []\n",
    "\n",
    "    for var_neighbor in neighbor:\n",
    "        ret.append([-var, -var_neighbor])\n",
    "\n",
    "    return ret"
   ],
   "metadata": {
    "collapsed": false,
    "pycharm": {
     "name": "#%%\n"
    }
   }
  },
  {
   "cell_type": "code",
   "execution_count": 32,
   "outputs": [],
   "source": [
    "class LireGrille:\n",
    "    def __init__(self, path: str):\n",
    "        \"\"\"\n",
    "        Read the grid of Starbattle game file given in parameter\n",
    "        \"\"\"\n",
    "        with open(path, \"r\") as f:  # open the file and read it\n",
    "            self.data = f.read()\n",
    "\n",
    "        self.grid: List[List[str]] = [line.split(\" \") for line in self.data.strip().split(\"\\n\")]\n",
    "\n",
    "        self.dim: int = len(self.grid[0])  # get the number of columns in the grid\n",
    "\n",
    "    def get_line(self, line_number: int) -> list_of_variable:\n",
    "        \"\"\"\n",
    "        Return all variables of the line given in parameter\n",
    "\n",
    "        \"\"\"\n",
    "        valeur_deb = (line_number - 1) * self.dim + 1\n",
    "\n",
    "        return list(range(valeur_deb, valeur_deb + self.dim))\n",
    "\n",
    "    def get_column(self, col_number: int) -> list_of_variable:\n",
    "        \"\"\"\n",
    "        Return all variables of the column given in parameter\n",
    "\n",
    "        \"\"\"\n",
    "        return list(range(col_number, self.dim ** 2 + 1, self.dim))\n",
    "\n",
    "    def get_zone(self, zone_number: int) -> list_of_variable:\n",
    "        \"\"\"\n",
    "        Return all variables of the zone given in parameter\n",
    "        \"\"\"\n",
    "        zone: list_of_variable = []\n",
    "        k: int = 1\n",
    "        for line in self.grid:\n",
    "            for elt in line:\n",
    "                if int(elt) == zone_number:\n",
    "                    zone.append(k)\n",
    "                k += 1\n",
    "        return zone\n",
    "\n",
    "    def get_neighbor(self, var: int) -> list_of_variable:\n",
    "        \"\"\"\n",
    "        Return all variables of the neighbor of the variable given in parameter\n",
    "        \"\"\"\n",
    "\n",
    "        l = [var + 1, var - 1, var - self.dim, var + self.dim, var - self.dim - 1,\n",
    "             var - self.dim + 1, var + self.dim - 1, var + self.dim + 1]\n",
    "\n",
    "        if var % self.dim == 1:  # if the variable is in the first column\n",
    "            l.remove(var - 1)\n",
    "            l.remove(var + self.dim - 1)\n",
    "            l.remove(var - self.dim - 1)\n",
    "\n",
    "        elif var % self.dim == 0:  # if the variable is in the last column\n",
    "            l.remove(var + 1)\n",
    "            l.remove(var + self.dim + 1)\n",
    "            l.remove(var - self.dim + 1)\n",
    "\n",
    "        if var <= self.dim:  # if the variable is in the first line\n",
    "            if var % self.dim != 1:\n",
    "                l.remove(var - self.dim - 1)\n",
    "            if var % self.dim != 0:\n",
    "                l.remove(var - self.dim + 1)\n",
    "            l.remove(var - self.dim)\n",
    "\n",
    "        elif var > self.dim * (self.dim - 1):  # if the variable is in the last line\n",
    "            if var % self.dim != 1:\n",
    "                l.remove(var + self.dim - 1)\n",
    "            if var % self.dim != 0:\n",
    "                l.remove(var + self.dim + 1)\n",
    "            l.remove(var + self.dim)\n",
    "\n",
    "        return l\n",
    "\n",
    "    def get_dimension(self) -> int:\n",
    "        \"\"\"\n",
    "        Return the number of lines/column/zone in the grid\n",
    "        \"\"\"\n",
    "        return self.dim\n"
   ],
   "metadata": {
    "collapsed": false,
    "pycharm": {
     "name": "#%%\n"
    }
   }
  },
  {
   "cell_type": "code",
   "execution_count": 33,
   "outputs": [],
   "source": [
    "def get_battle_star_clauses(grid: LireGrille, n: int) -> set_of_clauses:\n",
    "    \"\"\"\n",
    "    Returns the CNF equivalent to the Starbattle game\n",
    "\n",
    "    Parameters\n",
    "    ----------\n",
    "    grid : Lire_grille\n",
    "        Grid of the Starbattle game\n",
    "    n : int\n",
    "        Number of star by line/column/zone\n",
    "\n",
    "    \"\"\"\n",
    "    ret: set_of_clauses = []\n",
    "\n",
    "    for i in range(1, grid.get_dimension() + 1):\n",
    "        ret.extend(get_CNF_n_true_among(grid.get_zone(i), n))\n",
    "        ret.extend(get_CNF_n_true_among(grid.get_line(i), n))\n",
    "        ret.extend(get_CNF_n_true_among(grid.get_column(i), n))\n",
    "\n",
    "    for i in range(1, grid.get_dimension() ** 2 + 1):\n",
    "        ret.extend(get_CNF_no_true_among_neighbor(i, grid.get_neighbor(i)))\n",
    "\n",
    "    return ret\n",
    "\n",
    "def write_DIMAC_clause(path: str, set: set_of_clauses, nb_of_variable: int) -> NoReturn:\n",
    "    \"\"\"\n",
    "    Write the clause in DIMAC format in the file given in parameter\n",
    "\n",
    "    Parameters\n",
    "    ----------\n",
    "    path : str\n",
    "        Path of the file where the clause will be written\n",
    "    set : set_of_clauses\n",
    "        Clauses to write in DIMAC format\n",
    "    nb_of_variable : int\n",
    "        Number of variable of the grid\n",
    "    \"\"\"\n",
    "\n",
    "\n",
    "    with open(path, 'w') as f:\n",
    "        f.write(f\"p cnf {nb_of_variable} {len(set)}\\n\")\n",
    "        for clause in set:\n",
    "            for var in clause:\n",
    "                f.write(f\"{var} \")\n",
    "            f.write(\"0\\n\")\n",
    "\n",
    "def run_clauses_generator(path: str, n: int) -> NoReturn:\n",
    "    \"\"\"\n",
    "    Generate the clauses of the Starbattle game and write them in DIMAC format in the file given in parameter\n",
    "\n",
    "    Parameters\n",
    "    ----------\n",
    "    path : str\n",
    "        Path of the file where the clause will be written\n",
    "    n : int\n",
    "        Number of star by line/column/zone\n",
    "    \"\"\"\n",
    "    grid: LireGrille = LireGrille(path)\n",
    "    clauses: set_of_clauses = get_battle_star_clauses(grid, n)\n",
    "    write_DIMAC_clause(path.split(\".\")[-2]+\".dimac\", clauses, grid.get_dimension() ** 2)"
   ],
   "metadata": {
    "collapsed": false,
    "pycharm": {
     "name": "#%%\n"
    }
   }
  },
  {
   "cell_type": "code",
   "execution_count": 34,
   "outputs": [],
   "source": [
    "run_clauses_generator(\"Exemples/test3.txt\", 1)"
   ],
   "metadata": {
    "collapsed": false,
    "pycharm": {
     "name": "#%%\n"
    }
   }
  }
 ],
 "metadata": {
  "kernelspec": {
   "display_name": "Python 3",
   "language": "python",
   "name": "python3"
  },
  "language_info": {
   "codemirror_mode": {
    "name": "ipython",
    "version": 2
   },
   "file_extension": ".py",
   "mimetype": "text/x-python",
   "name": "python",
   "nbconvert_exporter": "python",
   "pygments_lexer": "ipython2",
   "version": "2.7.6"
  }
 },
 "nbformat": 4,
 "nbformat_minor": 0
}