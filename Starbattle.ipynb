{
 "cells": [
  {
   "cell_type": "markdown",
   "source": [
    "Star battle game\n",
    "================\n",
    "\n",
    "## Rules of the game\n",
    "\n",
    "This game is played on a grid that is separated into different zones.\n",
    "In each area there must be $n$ stars, in each column there must be $n$ stars and in each row.\n",
    "In addition two stars can touch each other even if they are in different zones and diagonally.\n",
    "Depending on the size of the grid, $n$ is either 1, 2, 3 or another value.\n",
    "\n",
    "\n",
    "We have some rules:\n",
    " 1. There are $n$ stars in each column.\n",
    " 2. There are $n$ stars in each row.\n",
    " 3. There are $n$ stars in each region.\n",
    " 4. Two stars do not touch each other, not even diagonally.\n",
    "\n",
    "\n",
    "## Exemple:\n",
    "![](img/exemple.png \"Grille vide\") ![](img/exemple_filled.png \"Grille pleine\")\n",
    "\n",
    "## Entry format\n",
    "\n",
    "The entry format of a grid will be a text file with the following format:\n",
    "\n",
    " - every line of the file is a row of the grid, each number is a zone identification.\n",
    " - the number of zone need to began with a 1 and be separated by a space.\n",
    "\n",
    "Here is the exemple of file representing the previous grid:\n",
    "\n",
    "```\n",
    "1 1 1 1 2 2 2 2 2\n",
    "1 1 1 1 3 3 2 2 4\n",
    "5 1 1 1 3 3 3 4 4\n",
    "5 5 5 5 6 6 6 4 4\n",
    "5 5 6 6 6 6 6 4 4\n",
    "5 7 6 6 6 6 6 6 4\n",
    "7 7 7 7 7 8 8 8 4\n",
    "7 7 7 7 7 8 8 8 8\n",
    "9 9 9 9 8 8 8 8 8\n",
    "```"
   ],
   "metadata": {
    "collapsed": false,
    "pycharm": {
     "name": "#%% md\n"
    }
   }
  },
  {
   "cell_type": "markdown",
   "source": [
    "### Imports"
   ],
   "metadata": {
    "collapsed": false,
    "pycharm": {
     "name": "#%% md\n"
    }
   }
  },
  {
   "cell_type": "code",
   "execution_count": 18,
   "outputs": [],
   "source": [
    "import functools\n",
    "import os\n",
    "import random\n",
    "from itertools import combinations\n",
    "from typing import List, NoReturn\n",
    "\n",
    "from IPython.display import Image as IPImage, Markdown as IPMarkdown, display, clear_output, HTML\n",
    "from PIL import Image, ImageDraw"
   ],
   "metadata": {
    "collapsed": false,
    "pycharm": {
     "name": "#%%\n"
    }
   }
  },
  {
   "cell_type": "markdown",
   "source": [
    "### Types"
   ],
   "metadata": {
    "collapsed": false,
    "pycharm": {
     "name": "#%% md\n"
    }
   }
  },
  {
   "cell_type": "code",
   "execution_count": 19,
   "outputs": [],
   "source": [
    "variable = int\n",
    "list_of_variable = List[variable]\n",
    "clause = List[variable]\n",
    "set_of_clauses = List[clause]"
   ],
   "metadata": {
    "collapsed": false,
    "pycharm": {
     "name": "#%%\n"
    }
   }
  },
  {
   "cell_type": "markdown",
   "source": [
    "### Constants"
   ],
   "metadata": {
    "collapsed": false,
    "pycharm": {
     "name": "#%% md\n"
    }
   }
  },
  {
   "cell_type": "code",
   "execution_count": 20,
   "outputs": [],
   "source": [
    "UNSAT_GIF = gif = HTML(\n",
    "        \"\"\"<div class=\"tenor-gif-embed\" data-postid=\"21948754\" data-share-method=\"host\" data-aspect-ratio=\"1\" data-width=\"20%\"><a href=\"https://tenor.com/view/sad-cute-cat-gif-21948754\">Sad Cute Cat Sticker</a>from <a href=\"https://tenor.com/search/sad-stickers\">Sad Stickers</a></div> <script type=\"text/javascript\" async src=\"https://tenor.com/embed.js\"></script>\"\"\")\n",
    "ERROR_GIF = HTML(\n",
    "        \"\"\"<div class=\"tenor-gif-embed\" data-postid=\"23890778\" data-share-method=\"host\" data-aspect-ratio=\"1.87135\" data-width=\"40%\"><a href=\"https://tenor.com/view/ice-age-sid-ohhhm-this-is-a-problem-we-have-a-problem-problem-gif-23890778\">Ice Age Sid GIF</a>from <a href=\"https://tenor.com/search/ice+age-gifs\">Ice Age GIFs</a></div> <script type=\"text/javascript\" async src=\"https://tenor.com/embed.js\"></script>\"\"\")"
   ],
   "metadata": {
    "collapsed": false,
    "pycharm": {
     "name": "#%%\n"
    }
   }
  },
  {
   "cell_type": "markdown",
   "source": [
    "### CNF generator"
   ],
   "metadata": {
    "collapsed": false,
    "pycharm": {
     "name": "#%% md\n"
    }
   }
  },
  {
   "cell_type": "markdown",
   "source": [
    "First to formalize rules 1, 2 and 3 we need to define à CNF represent $n$ variable true among $m$.\n",
    "\n",
    "Let note $P_k(E)$ the set of k combinations of $E$, the  CNF represent $n$ variable true among a set $E$ of $m$ variables will be defined by:\n",
    "\n",
    "$$\\bigwedge\\limits_{i \\in [\\![0, m]\\!]\\ | i \\ne n } \\left( \\bigwedge\\limits_{S \\in P_i(E)}  \\left( \\bigvee_{var \\in S} \\lnot var \\right) \\lor \\left( \\bigvee_{var \\in E\\setminus S} var \\right) \\right) $$"
   ],
   "metadata": {
    "collapsed": false,
    "pycharm": {
     "name": "#%% md\n"
    }
   }
  },
  {
   "cell_type": "code",
   "execution_count": 21,
   "outputs": [],
   "source": [
    "def get_CNF_n_true_among(values: list_of_variable, n: int) -> set_of_clauses:\n",
    "    \"\"\"\n",
    "    Returns the CNF equivalent to two true variables from the list provided in parameter\n",
    "\n",
    "    Parameters\n",
    "    ----------\n",
    "    values : int\n",
    "        List of logic variables\n",
    "    n : int\n",
    "        Number of true variables\n",
    "\n",
    "    \"\"\"\n",
    "    if n < 1:\n",
    "        raise ValueError(f\"The number of true variables must be at least 1.\")\n",
    "    if len(values) < n:\n",
    "        raise ValueError(f\"The size of the list must be at least {n}.\")\n",
    "\n",
    "    close: set_of_clauses = []\n",
    "\n",
    "    for j in range(len(values) + 1):\n",
    "        if j != n:\n",
    "            for cmb in combinations(values, j):\n",
    "                close.append([-k if k in cmb else k for k in values])\n",
    "    return close"
   ],
   "metadata": {
    "collapsed": false,
    "pycharm": {
     "name": "#%%\n"
    }
   }
  },
  {
   "cell_type": "markdown",
   "source": [
    "To formalize rules 4 we need to define à CNF represent no variables true among neighbors of a given variable.\n",
    "\n",
    "Let define $V$ the set of neighbors of a given variable $var$, the CNF represent no variables true among $V$ will be defined by:\n",
    "\n",
    "$$\\bigwedge\\limits_{n \\in V} \\lnot n \\lor \\lnot var $$\n"
   ],
   "metadata": {
    "collapsed": false,
    "pycharm": {
     "name": "#%% md\n"
    }
   }
  },
  {
   "cell_type": "code",
   "execution_count": 22,
   "outputs": [],
   "source": [
    "def get_CNF_no_true_among_neighbor(var: variable, neighbor: list_of_variable) -> set_of_clauses:\n",
    "    \"\"\"\n",
    "    Returns the CNF equivalent to no true variable among the neighbor of the variable provided in parameter\n",
    "\n",
    "    Parameters\n",
    "    ----------\n",
    "    var : list_of_variable\n",
    "        Initial variable\n",
    "    neighbor : list_of_variable\n",
    "        List of neighbor of the initial variable\n",
    "\n",
    "    \"\"\"\n",
    "    if var in neighbor:\n",
    "        raise ValueError(f\"The variable {var} is in the list of neighbor.\")\n",
    "\n",
    "    return [[-var, -var_neighbor] for var_neighbor in neighbor]"
   ],
   "metadata": {
    "collapsed": false,
    "pycharm": {
     "name": "#%%\n"
    }
   }
  },
  {
   "cell_type": "markdown",
   "source": [
    "### DIMAC and SAT functions"
   ],
   "metadata": {
    "collapsed": false,
    "pycharm": {
     "name": "#%% md\n"
    }
   }
  },
  {
   "cell_type": "markdown",
   "source": [
    "To represent our grid, we will use simple variables, they will be numbered from 1 to the width of the grid in square.\n",
    "For example the variables for a 5 by 5 grid will be :\n",
    "\n",
    "```\n",
    "1 2 3 4 5\n",
    "6 7 8 9 10\n",
    "11 12 13 14 15\n",
    "16 17 18 19 20\n",
    "21 22 23 24 25\n",
    "```"
   ],
   "metadata": {
    "collapsed": false,
    "pycharm": {
     "name": "#%% md\n"
    }
   }
  },
  {
   "cell_type": "code",
   "execution_count": 23,
   "outputs": [],
   "source": [
    "def write_DIMAC(path: str, clauses_list: set_of_clauses, nb_of_variable: int) -> NoReturn:\n",
    "    \"\"\"\n",
    "    Write the clause in DIMAC format in the file given in parameter\n",
    "\n",
    "    Parameters\n",
    "    ----------\n",
    "    path : str\n",
    "        Path of the file where the clause will be written\n",
    "    clauses_list : set_of_clauses\n",
    "        Clauses to write in DIMAC format\n",
    "    nb_of_variable : int\n",
    "        Number of variable of the grid\n",
    "    \"\"\"\n",
    "\n",
    "    with open(path, 'w') as f:\n",
    "        f.write(f\"p cnf {nb_of_variable} {len(clauses_list)}\\n\")\n",
    "        for cls in clauses_list:\n",
    "            for var in cls:\n",
    "                f.write(f\"{var} \")\n",
    "            f.write(\"0\\n\")\n",
    "\n",
    "\n",
    "def read_DIMAC(path: str) -> (set_of_clauses, int):\n",
    "    \"\"\"\n",
    "    Read the DIMAC file and return the clauses\n",
    "\n",
    "    Parameters\n",
    "    ----------\n",
    "    path : str\n",
    "        Path of the file to read\n",
    "\n",
    "    Returns\n",
    "    -------\n",
    "    set_of_clauses\n",
    "        Clauses of the DIMAC file\n",
    "    int\n",
    "        Number of variable of set_of_clauses\n",
    "    \"\"\"\n",
    "    with open(path, 'r') as f:\n",
    "        lines = f.readlines()\n",
    "\n",
    "    maxvalue: int = 0\n",
    "    cnf: set_of_clauses = []\n",
    "\n",
    "    for line in lines:\n",
    "        if line.startswith('c'):  # skip comments\n",
    "            continue\n",
    "        elif line.startswith('p'):  # get the number of variable\n",
    "            maxvalue = int(line.split()[2])\n",
    "        else:  # get the clauses\n",
    "            cnf += list(map(int, line.split()[:-1]))\n",
    "\n",
    "    return cnf, maxvalue\n",
    "\n",
    "\n",
    "def convert_NSAT_to_3SAT(cnf: set_of_clauses, maxvalue: int) -> (set_of_clauses, int):\n",
    "    \"\"\"\n",
    "    Convert NSAT clauses to 3SAT clauses\n",
    "\n",
    "    Parameters\n",
    "    ----------\n",
    "    cnf : set_of_clauses\n",
    "        Clauses of the NSAT file\n",
    "    maxvalue : int\n",
    "        Number of variable of the NSAT file\n",
    "\n",
    "    Returns\n",
    "    -------\n",
    "    set_of_clauses\n",
    "        Clauses of the 3SAT file\n",
    "    int\n",
    "        Number of variable of the 3SAT file\n",
    "    \"\"\"\n",
    "    new_cnf: set_of_clauses = []\n",
    "    for cls in cnf:\n",
    "        if len(cls) == 1:  # if the clause is of length 1, it is a unit clause\n",
    "            maxvalue += 2\n",
    "            new_cnf.extend([[x1 := cls[0], y1 := maxvalue, y2 := maxvalue - 1],\n",
    "                            [x1, y1, -y2],\n",
    "                            [x1, -y1, y2],\n",
    "                            [x1, -y1, -y2]])\n",
    "        elif len(cls) == 2:  # if the clause is of length 2, it is a binary clause\n",
    "            maxvalue += 1\n",
    "            new_cnf.extend([[x1 := cls[0], x2 := cls[1], y1 := maxvalue],\n",
    "                            [x1, x2, -y1]])\n",
    "        else:\n",
    "            while len(cls) > 3:\n",
    "                new_clause: cls = []\n",
    "                for i in range(0, len(cls), 2):\n",
    "                    if i + 1 < len(cls):\n",
    "                        maxvalue += 1\n",
    "                        new_cnf.append([cls[i], cls[i + 1], -maxvalue])\n",
    "                        new_clause.append(maxvalue)\n",
    "                    else:\n",
    "                        new_clause.append(cls[i])\n",
    "                cls = new_clause\n",
    "            new_cnf.append(cls)\n",
    "\n",
    "    return new_cnf, maxvalue\n",
    "\n",
    "\n",
    "def get_unsat_clause(cnf: set_of_clauses, assignment: list_of_variable) -> set_of_clauses:\n",
    "    \"\"\"\n",
    "    Get the unsat clause of the CNF given in parameter\n",
    "\n",
    "    Parameters\n",
    "    ----------\n",
    "    cnf : set_of_clauses\n",
    "        CNF to check\n",
    "    assignment : list_of_variable\n",
    "        Assignment to check\n",
    "\n",
    "    Returns\n",
    "    -------\n",
    "    set_of_clauses\n",
    "        Unsat clause of the CNF\n",
    "    \"\"\"\n",
    "    unsat_clause: set_of_clauses = []\n",
    "    for cls in cnf:\n",
    "        is_true: bool = False\n",
    "        for var in cls:\n",
    "            if var in assignment:\n",
    "                is_true = True\n",
    "                break\n",
    "        if not is_true:\n",
    "            unsat_clause.append(cls)\n",
    "    return unsat_clause\n",
    "\n",
    "\n",
    "def nb_sat_clause(cnf: set_of_clauses, assignment: list_of_variable) -> int:\n",
    "    \"\"\"\n",
    "    Get the number of sat clause of the CNF given in parameter\n",
    "\n",
    "    Parameters\n",
    "    ----------\n",
    "    cnf : set_of_clauses\n",
    "        CNF to check\n",
    "    assignment : list_of_variable\n",
    "        Assignment to check\n",
    "\n",
    "    Returns\n",
    "    -------\n",
    "    int\n",
    "        Number of sat clause of the CNF\n",
    "    \"\"\"\n",
    "    ret: int = 0\n",
    "    for cls in cnf:\n",
    "        for var in cls:\n",
    "            if var in assignment:\n",
    "                ret += 1\n",
    "                break\n",
    "    return ret\n",
    "\n",
    "\n",
    "def sat_solver(cnf: set_of_clauses, nb_of_clauses: int, maxvalue: int) -> list_of_variable:\n",
    "    \"\"\"\n",
    "    Solve the SAT problem\n",
    "\n",
    "    Parameters\n",
    "    ----------\n",
    "    cnf : set_of_clauses\n",
    "        Clauses of the SAT problem\n",
    "    nb_of_clauses : int\n",
    "        Number of clauses of the SAT problem\n",
    "    maxvalue : int\n",
    "        Number of variable of the SAT problem\n",
    "\n",
    "    Returns\n",
    "    -------\n",
    "    list_of_variable:\n",
    "        Solution of the SAT problem\n",
    "    \"\"\"\n",
    "\n",
    "    v: list_of_variable = [i if random.random() < 0.5 else -i for i in range(1, maxvalue + 1)]\n",
    "    i: int = 0\n",
    "    n = nb_of_clauses ** 2\n",
    "\n",
    "    while i < n:\n",
    "        unsat = get_unsat_clause(cnf, v)\n",
    "        if len(unsat) == 0: return v\n",
    "        c = random.choice(unsat)\n",
    "\n",
    "        if random.random() < 0.2:  # Flip a random variable\n",
    "            x = random.choice(c)\n",
    "        else:  # Flip the variable with the most impact in unsat clause\n",
    "            x: variable = c[0]\n",
    "            max_sat: int = 0\n",
    "            for var in c:\n",
    "                v[abs(var) - 1] *= -1\n",
    "                if max_sat < (m := nb_sat_clause(cnf, v)):\n",
    "                    x = var\n",
    "                    max_sat = m\n",
    "                v[abs(var) - 1] *= -1\n",
    "        v[abs(x) - 1] *= -1\n",
    "        i += 1\n",
    "\n",
    "    return []\n"
   ],
   "metadata": {
    "collapsed": false,
    "pycharm": {
     "name": "#%%\n"
    }
   }
  },
  {
   "cell_type": "markdown",
   "source": [
    "### Starbattle specific functions and IO"
   ],
   "metadata": {
    "collapsed": false,
    "pycharm": {
     "name": "#%% md\n"
    }
   }
  },
  {
   "cell_type": "markdown",
   "source": [
    "To solve the problem we will just have to read the grid and to build the CNF:\n",
    " - for each row add the CNF of $n$ true among the variables in the row ;\n",
    " - for each column add the CNF of $n$ true among the variables of the column ;\n",
    " - for each field add the CNF of $n$ true among the variables of the field ;\n",
    " - for each variable, add the CNF of false variable if one of the neighbors is true."
   ],
   "metadata": {
    "collapsed": false,
    "pycharm": {
     "name": "#%% md\n"
    }
   }
  },
  {
   "cell_type": "code",
   "execution_count": 24,
   "outputs": [],
   "source": [
    "class StarbattleGrille:\n",
    "    def __init__(self, path: str):\n",
    "        \"\"\"\n",
    "        Read the grid of Starbattle game file given in parameter\n",
    "        \"\"\"\n",
    "        with open(path, \"r\") as f:  # open the file and read it\n",
    "            self.data = f.readlines()\n",
    "\n",
    "        self.grid: List[List[str]] = [line.strip().split(\" \") for line in self.data]\n",
    "        self.dim: int = len(self.grid[0])  # get the number of columns in the grid\n",
    "\n",
    "    def get_line(self, line_number: int) -> list_of_variable:\n",
    "        \"\"\"\n",
    "        Return all variables of the line given in parameter\n",
    "        \"\"\"\n",
    "        valeur_deb = (line_number - 1) * self.dim + 1\n",
    "\n",
    "        return list(range(valeur_deb, valeur_deb + self.dim))\n",
    "\n",
    "    def get_column(self, col_number: int) -> list_of_variable:\n",
    "        \"\"\"\n",
    "        Return all variables of the column given in parameter\n",
    "        \"\"\"\n",
    "        return list(range(col_number, self.dim ** 2 + 1, self.dim))\n",
    "\n",
    "    def get_zone(self, zone_number: int) -> list_of_variable:\n",
    "        \"\"\"\n",
    "        Return all variables of the zone given in parameter\n",
    "        \"\"\"\n",
    "        zone: list_of_variable = []\n",
    "        k: int = 1\n",
    "        for line in self.grid:\n",
    "            for elt in line:\n",
    "                if int(elt) == zone_number:\n",
    "                    zone.append(k)\n",
    "                k += 1\n",
    "        return zone\n",
    "\n",
    "    def get_neighbor(self, var: int) -> list_of_variable:\n",
    "        \"\"\"\n",
    "        Return all variables of the neighbor of the variable given in parameter\n",
    "        \"\"\"\n",
    "\n",
    "        l: list_of_variable = [var + 1, var - 1, var - self.dim, var + self.dim, var - self.dim - 1,\n",
    "                               var - self.dim + 1, var + self.dim - 1, var + self.dim + 1]\n",
    "\n",
    "        if var % self.dim == 1:  # if the variable is in the first column\n",
    "            l.remove(var - 1)\n",
    "            l.remove(var + self.dim - 1)\n",
    "            l.remove(var - self.dim - 1)\n",
    "\n",
    "        elif var % self.dim == 0:  # if the variable is in the last column\n",
    "            l.remove(var + 1)\n",
    "            l.remove(var + self.dim + 1)\n",
    "            l.remove(var - self.dim + 1)\n",
    "\n",
    "        if var <= self.dim:  # if the variable is in the first line\n",
    "            if var % self.dim != 1:\n",
    "                l.remove(var - self.dim - 1)\n",
    "            if var % self.dim != 0:\n",
    "                l.remove(var - self.dim + 1)\n",
    "            l.remove(var - self.dim)\n",
    "\n",
    "        elif var > self.dim * (self.dim - 1):  # if the variable is in the last line\n",
    "            if var % self.dim != 1:\n",
    "                l.remove(var + self.dim - 1)\n",
    "            if var % self.dim != 0:\n",
    "                l.remove(var + self.dim + 1)\n",
    "            l.remove(var + self.dim)\n",
    "\n",
    "        return l\n",
    "\n",
    "    def get_dimension(self) -> int:\n",
    "        \"\"\"\n",
    "        Return the number of lines/column/zone in the grid\n",
    "        \"\"\"\n",
    "        return self.dim\n",
    "\n",
    "    def draw_image(self, path: str, star_pos=None) -> NoReturn:\n",
    "        \"\"\"\n",
    "        Write an image of the grid in the file given in parameter\n",
    "        path: str\n",
    "            path of the file where the image will be written\n",
    "        star_pos: list_of_variable\n",
    "            list of the position of the stars in the grid\n",
    "        \"\"\"\n",
    "        if star_pos is None:\n",
    "            star_pos = []\n",
    "\n",
    "        img = Image.new(\"RGB\", (self.dim * 50 + 1, self.dim * 50 + 1), \"white\")\n",
    "        draw = ImageDraw.Draw(img)\n",
    "\n",
    "        # draw the grid\n",
    "        for i in range(1, self.dim):\n",
    "            draw.line((0, i * 50, self.dim * 50, i * 50), fill=\"black\")\n",
    "            draw.line((i * 50, 0, i * 50, self.dim * 50), fill=\"black\")\n",
    "        draw.rectangle((0, 0, self.dim * 50, self.dim * 50), outline=\"red\", width=3)\n",
    "\n",
    "        # draw the border\n",
    "        for x in range(self.dim):\n",
    "            for y in range(1, self.dim):\n",
    "                if self.grid[x][y - 1] != self.grid[x][y]:\n",
    "                    draw.line((y * 50, (x + 1) * 50, y * 50, x * 50), fill=\"red\", width=3)\n",
    "                if self.grid[y - 1][x] != self.grid[y][x]:\n",
    "                    draw.line(((x + 1) * 50, y * 50, x * 50, y * 50), fill=\"red\", width=3)\n",
    "\n",
    "        # draw the stars\n",
    "        if star_pos:\n",
    "            for i in range(self.dim):\n",
    "                for j in range(1, self.dim + 1):\n",
    "                    if i * self.dim + j in star_pos:\n",
    "                        draw.ellipse(((j - 1) * 50 + 10, i * 50 + 10, j * 50 - 10, (i + 1) * 50 - 10), fill=\"yellow\")\n",
    "        img.save(path)\n",
    "\n",
    "\n",
    "@functools.lru_cache(typed=True)\n",
    "def get_battle_star_clauses(grid: StarbattleGrille, n: int) -> set_of_clauses:\n",
    "    \"\"\"\n",
    "    Returns the CNF equivalent to the Starbattle game\n",
    "\n",
    "    Parameters\n",
    "    ----------\n",
    "    grid : Lire_grille\n",
    "        Grid of the Starbattle game\n",
    "    n : int\n",
    "        Number of star by line/column/zone\n",
    "\n",
    "    \"\"\"\n",
    "    ret: set_of_clauses = []\n",
    "\n",
    "    for i in range(1, grid.get_dimension() + 1):\n",
    "        ret.extend(get_CNF_n_true_among(grid.get_zone(i), n))\n",
    "        ret.extend(get_CNF_n_true_among(grid.get_line(i), n))\n",
    "        ret.extend(get_CNF_n_true_among(grid.get_column(i), n))\n",
    "\n",
    "    for var in range(1, grid.get_dimension() ** 2 + 1):\n",
    "        ret.extend(get_CNF_no_true_among_neighbor(var, grid.get_neighbor(var)))\n",
    "\n",
    "    return ret\n",
    "\n",
    "\n",
    "def solver(path: str, n: int, convert_to_3sat: bool = False, local: bool = False) -> list_of_variable:\n",
    "    \"\"\"\n",
    "    Run the SAT solver on the clauses of the Starbattle game and return the result\n",
    "\n",
    "    Parameters\n",
    "    ----------\n",
    "    path : str\n",
    "        Path of the file where the clause is written\n",
    "    n : int\n",
    "        Number of star by line/column/zone\n",
    "    convert_to_3sat: bool\n",
    "        If True, convert the clauses to 3SAT clauses\n",
    "    local: bool\n",
    "        If True, run the solver locally\n",
    "\n",
    "    Returns\n",
    "    -------\n",
    "    list_of_variable\n",
    "        List of the true variable of the grid (if the grid is solved)\n",
    "    \"\"\"\n",
    "\n",
    "    grid: StarbattleGrille = StarbattleGrille(path)\n",
    "    grid.draw_image(f\"{path.split('.')[-2] + '.png'}\")\n",
    "    title = IPMarkdown(\"## Starbattle Solver\\n#### Original grid\\n\")\n",
    "    img = IPImage(f\"{path.split('.')[-2] + '.png'}\")\n",
    "    display(title, img)\n",
    "\n",
    "    starbattle_clauses: set_of_clauses = get_battle_star_clauses(grid, n)\n",
    "    maxvalue = grid.get_dimension() ** 2\n",
    "\n",
    "    if convert_to_3sat:  # Convert the clauses to 3SAT clauses if needed\n",
    "        starbattle_clauses, maxvalue = convert_NSAT_to_3SAT(starbattle_clauses, maxvalue)\n",
    "\n",
    "    if not local:\n",
    "        write_DIMAC(path.split(\".\")[-2] + \".dimac\", starbattle_clauses, maxvalue)\n",
    "        # Run the solver\n",
    "        if os.name == 'nt':  # Windows\n",
    "            ret_state = os.system(f\"wsl -- minisat {path.split('.')[-2] + '.dimac'} {path.split('.')[-2] + '.solved'}\")\n",
    "        else:  # Linux\n",
    "            ret_state = os.system(f\"minisat {path.split('.')[-2] + '.dimac'} {path.split('.')[-2] + '.solved'}\")\n",
    "\n",
    "        if ret_state == 20:  # The solver is UNSAT\n",
    "            display(UNSAT_GIF)\n",
    "            raise ValueError(\"The SAT solver returned a UNSAT problem\")\n",
    "        elif ret_state != 10:  # The solver return an error\n",
    "            display(ERROR_GIF)\n",
    "            raise ValueError(\"The SAT solver returned an error\")\n",
    "\n",
    "        with open(path.split(\".\")[-2] + \".solved\", \"r\") as f:\n",
    "            result = f.readlines()[1].split()\n",
    "\n",
    "    else:\n",
    "        result = sat_solver(starbattle_clauses, len(starbattle_clauses), maxvalue)\n",
    "\n",
    "        if not result:\n",
    "            display(UNSAT_GIF)\n",
    "            raise ValueError(\"The SAT solver returned a UNDEF problem\")\n",
    "\n",
    "    data = [var for item in result if abs(var := int(item)) <= grid.get_dimension() ** 2 and var > 0]\n",
    "\n",
    "    grid.draw_image(f\"{path.split('.')[-2] + '_solved.png'}\", data)\n",
    "\n",
    "    title = IPMarkdown(f\"## Starbattle Solver\\n#### Solved grid (generated with {len(starbattle_clauses)} clauses)\\n\")\n",
    "    img = IPImage(f\"{path.split('.')[-2] + '_solved.png'}\")\n",
    "    clear_output()\n",
    "    display(title, img)\n",
    "\n",
    "    return data"
   ],
   "metadata": {
    "collapsed": false,
    "pycharm": {
     "name": "#%%\n"
    }
   }
  },
  {
   "cell_type": "markdown",
   "source": [
    "### No let's test the solver\n",
    "\n",
    "To execute the solver, you need to use the function\n",
    "```python3\n",
    "solver(path: str, n: int, convert_to_3sat: bool, local: bool)\n",
    "```\n",
    "with the following parameters:\n",
    "    - `path`: path of the file where the grid is written\n",
    "    - `n`: number of star by line/column/zone\n",
    "    - `convert_to_3sat`: if True, convert the clauses to 3SAT clauses\n",
    "    - `local`: if True, run the solver locally else use minisat\n",
    "\n",
    "## With the grid of the first exemple using minisat :"
   ],
   "metadata": {
    "collapsed": false,
    "pycharm": {
     "name": "#%% md\n"
    }
   }
  },
  {
   "cell_type": "code",
   "execution_count": 25,
   "outputs": [
    {
     "data": {
      "text/plain": "<IPython.core.display.Markdown object>",
      "text/markdown": "## Starbattle Solver\n#### Solved grid (generated with 34264 clauses)\n"
     },
     "metadata": {},
     "output_type": "display_data"
    },
    {
     "data": {
      "image/png": "[encoded data removed]",
      "text/plain": "<IPython.core.display.Image object>"
     },
     "metadata": {},
     "output_type": "display_data"
    },
    {
     "name": "stdout",
     "output_type": "stream",
     "text": [
      "CPU times: total: 406 ms\n",
      "Wall time: 10.9 s\n"
     ]
    },
    {
     "data": {
      "text/plain": "[6, 8, 10, 12, 23, 25, 30, 36, 37, 41, 52, 54, 56, 58, 69, 71, 74, 76]"
     },
     "execution_count": 25,
     "metadata": {},
     "output_type": "execute_result"
    }
   ],
   "source": [
    "%%time\n",
    "solver(\"Exemples/test1.txt\", 2, convert_to_3sat=False, local=False)"
   ],
   "metadata": {
    "collapsed": false,
    "pycharm": {
     "name": "#%%\n"
    }
   }
  },
  {
   "cell_type": "markdown",
   "source": [
    "## ...using minisat and 3-SAT conversion :"
   ],
   "metadata": {
    "collapsed": false,
    "pycharm": {
     "name": "#%% md\n"
    }
   }
  },
  {
   "cell_type": "code",
   "execution_count": 26,
   "outputs": [
    {
     "data": {
      "text/plain": "<IPython.core.display.Markdown object>",
      "text/markdown": "## Starbattle Solver\n#### Solved grid (generated with 354713 clauses)\n"
     },
     "metadata": {},
     "output_type": "display_data"
    },
    {
     "data": {
      "image/png": "[encoded data removed]",
      "text/plain": "<IPython.core.display.Image object>"
     },
     "metadata": {},
     "output_type": "display_data"
    },
    {
     "name": "stdout",
     "output_type": "stream",
     "text": [
      "CPU times: total: 1.75 s\n",
      "Wall time: 4.03 s\n"
     ]
    },
    {
     "data": {
      "text/plain": "[6, 8, 10, 12, 23, 25, 30, 36, 37, 41, 52, 54, 56, 58, 69, 71, 74, 76]"
     },
     "execution_count": 26,
     "metadata": {},
     "output_type": "execute_result"
    }
   ],
   "source": [
    "%%time\n",
    "solver(\"Exemples/test1.txt\", 2, convert_to_3sat=True, local=False)"
   ],
   "metadata": {
    "collapsed": false,
    "pycharm": {
     "name": "#%%\n"
    }
   }
  },
  {
   "cell_type": "markdown",
   "source": [
    "## With the other grid with one star by line/column/zone :"
   ],
   "metadata": {
    "collapsed": false,
    "pycharm": {
     "name": "#%% md\n"
    }
   }
  },
  {
   "cell_type": "code",
   "execution_count": 27,
   "outputs": [
    {
     "data": {
      "text/plain": "<IPython.core.display.Markdown object>",
      "text/markdown": "## Starbattle Solver\n#### Solved grid (generated with 985 clauses)\n"
     },
     "metadata": {},
     "output_type": "display_data"
    },
    {
     "data": {
      "image/png": "[encoded data removed]",
      "text/plain": "<IPython.core.display.Image object>"
     },
     "metadata": {},
     "output_type": "display_data"
    },
    {
     "name": "stdout",
     "output_type": "stream",
     "text": [
      "CPU times: total: 0 ns\n",
      "Wall time: 265 ms\n"
     ]
    },
    {
     "data": {
      "text/plain": "[4, 6, 13, 20, 22]"
     },
     "execution_count": 27,
     "metadata": {},
     "output_type": "execute_result"
    }
   ],
   "source": [
    "%%time\n",
    "solver(\"Exemples/test3.txt\", 1, convert_to_3sat=False, local=False)"
   ],
   "metadata": {
    "collapsed": false,
    "pycharm": {
     "name": "#%%\n"
    }
   }
  },
  {
   "cell_type": "markdown",
   "source": [
    "## ...using local SAT solver :"
   ],
   "metadata": {
    "collapsed": false,
    "pycharm": {
     "name": "#%% md\n"
    }
   }
  },
  {
   "cell_type": "code",
   "execution_count": 28,
   "outputs": [
    {
     "data": {
      "text/plain": "<IPython.core.display.Markdown object>",
      "text/markdown": "## Starbattle Solver\n#### Solved grid (generated with 985 clauses)\n"
     },
     "metadata": {},
     "output_type": "display_data"
    },
    {
     "data": {
      "image/png": "[encoded data removed]",
      "text/plain": "<IPython.core.display.Image object>"
     },
     "metadata": {},
     "output_type": "display_data"
    },
    {
     "name": "stdout",
     "output_type": "stream",
     "text": [
      "CPU times: total: 0 ns\n",
      "Wall time: 81.3 ms\n"
     ]
    },
    {
     "data": {
      "text/plain": "[4, 6, 13, 20, 22]"
     },
     "execution_count": 28,
     "metadata": {},
     "output_type": "execute_result"
    }
   ],
   "source": [
    "%%time\n",
    "solver(\"Exemples/test3.txt\", 1, convert_to_3sat=False, local=True)"
   ],
   "metadata": {
    "collapsed": false,
    "pycharm": {
     "name": "#%%\n"
    }
   }
  },
  {
   "cell_type": "markdown",
   "source": [
    "## ...trying to solve a grid with two star by line/column/zone with minisat :"
   ],
   "metadata": {
    "collapsed": false,
    "pycharm": {
     "name": "#%% md\n"
    }
   }
  },
  {
   "cell_type": "code",
   "execution_count": 29,
   "outputs": [
    {
     "data": {
      "text/plain": "<IPython.core.display.Markdown object>",
      "text/markdown": "## Starbattle Solver\n#### Original grid\n"
     },
     "metadata": {},
     "output_type": "display_data"
    },
    {
     "data": {
      "image/png": "[encoded data removed]",
      "text/plain": "<IPython.core.display.Image object>"
     },
     "metadata": {},
     "output_type": "display_data"
    },
    {
     "data": {
      "text/plain": "<IPython.core.display.HTML object>",
      "text/html": "<div class=\"tenor-gif-embed\" data-postid=\"21948754\" data-share-method=\"host\" data-aspect-ratio=\"1\" data-width=\"20%\"><a href=\"https://tenor.com/view/sad-cute-cat-gif-21948754\">Sad Cute Cat Sticker</a>from <a href=\"https://tenor.com/search/sad-stickers\">Sad Stickers</a></div> <script type=\"text/javascript\" async src=\"https://tenor.com/embed.js\"></script>"
     },
     "metadata": {},
     "output_type": "display_data"
    },
    {
     "ename": "ValueError",
     "evalue": "The SAT solver returned a UNSAT problem",
     "output_type": "error",
     "traceback": [
      "\u001B[1;31m---------------------------------------------------------------------------\u001B[0m",
      "\u001B[1;31mValueError\u001B[0m                                Traceback (most recent call last)",
      "File \u001B[1;32m<timed eval>:1\u001B[0m, in \u001B[0;36m<module>\u001B[1;34m\u001B[0m\n",
      "Input \u001B[1;32mIn [24]\u001B[0m, in \u001B[0;36msolver\u001B[1;34m(path, n, convert_to_3sat, local)\u001B[0m\n\u001B[0;32m    183\u001B[0m \u001B[38;5;28;01mif\u001B[39;00m ret_state \u001B[38;5;241m==\u001B[39m \u001B[38;5;241m20\u001B[39m:  \u001B[38;5;66;03m# The solver is UNSAT\u001B[39;00m\n\u001B[0;32m    184\u001B[0m     display(UNSAT_GIF)\n\u001B[1;32m--> 185\u001B[0m     \u001B[38;5;28;01mraise\u001B[39;00m \u001B[38;5;167;01mValueError\u001B[39;00m(\u001B[38;5;124m\"\u001B[39m\u001B[38;5;124mThe SAT solver returned a UNSAT problem\u001B[39m\u001B[38;5;124m\"\u001B[39m)\n\u001B[0;32m    186\u001B[0m \u001B[38;5;28;01melif\u001B[39;00m ret_state \u001B[38;5;241m!=\u001B[39m \u001B[38;5;241m10\u001B[39m:  \u001B[38;5;66;03m# The solver return an error\u001B[39;00m\n\u001B[0;32m    187\u001B[0m     display(ERROR_GIF)\n",
      "\u001B[1;31mValueError\u001B[0m: The SAT solver returned a UNSAT problem"
     ]
    }
   ],
   "source": [
    "%%time\n",
    "solver(\"Exemples/test3.txt\", 2, convert_to_3sat=False, local=False)"
   ],
   "metadata": {
    "collapsed": false,
    "pycharm": {
     "name": "#%%\n"
    }
   }
  },
  {
   "cell_type": "markdown",
   "source": [
    "## ...trying to solve a grid with two star by line/column/zone with minisat and 3-SAT conversion :"
   ],
   "metadata": {
    "collapsed": false,
    "pycharm": {
     "name": "#%% md\n"
    }
   }
  },
  {
   "cell_type": "code",
   "execution_count": 30,
   "outputs": [
    {
     "data": {
      "text/plain": "<IPython.core.display.Markdown object>",
      "text/markdown": "## Starbattle Solver\n#### Original grid\n"
     },
     "metadata": {},
     "output_type": "display_data"
    },
    {
     "data": {
      "image/png": "[encoded data removed]",
      "text/plain": "<IPython.core.display.Image object>"
     },
     "metadata": {},
     "output_type": "display_data"
    },
    {
     "data": {
      "text/plain": "<IPython.core.display.HTML object>",
      "text/html": "<div class=\"tenor-gif-embed\" data-postid=\"21948754\" data-share-method=\"host\" data-aspect-ratio=\"1\" data-width=\"20%\"><a href=\"https://tenor.com/view/sad-cute-cat-gif-21948754\">Sad Cute Cat Sticker</a>from <a href=\"https://tenor.com/search/sad-stickers\">Sad Stickers</a></div> <script type=\"text/javascript\" async src=\"https://tenor.com/embed.js\"></script>"
     },
     "metadata": {},
     "output_type": "display_data"
    },
    {
     "ename": "ValueError",
     "evalue": "The SAT solver returned a UNSAT problem",
     "output_type": "error",
     "traceback": [
      "\u001B[1;31m---------------------------------------------------------------------------\u001B[0m",
      "\u001B[1;31mValueError\u001B[0m                                Traceback (most recent call last)",
      "File \u001B[1;32m<timed eval>:1\u001B[0m, in \u001B[0;36m<module>\u001B[1;34m\u001B[0m\n",
      "Input \u001B[1;32mIn [24]\u001B[0m, in \u001B[0;36msolver\u001B[1;34m(path, n, convert_to_3sat, local)\u001B[0m\n\u001B[0;32m    183\u001B[0m \u001B[38;5;28;01mif\u001B[39;00m ret_state \u001B[38;5;241m==\u001B[39m \u001B[38;5;241m20\u001B[39m:  \u001B[38;5;66;03m# The solver is UNSAT\u001B[39;00m\n\u001B[0;32m    184\u001B[0m     display(UNSAT_GIF)\n\u001B[1;32m--> 185\u001B[0m     \u001B[38;5;28;01mraise\u001B[39;00m \u001B[38;5;167;01mValueError\u001B[39;00m(\u001B[38;5;124m\"\u001B[39m\u001B[38;5;124mThe SAT solver returned a UNSAT problem\u001B[39m\u001B[38;5;124m\"\u001B[39m)\n\u001B[0;32m    186\u001B[0m \u001B[38;5;28;01melif\u001B[39;00m ret_state \u001B[38;5;241m!=\u001B[39m \u001B[38;5;241m10\u001B[39m:  \u001B[38;5;66;03m# The solver return an error\u001B[39;00m\n\u001B[0;32m    187\u001B[0m     display(ERROR_GIF)\n",
      "\u001B[1;31mValueError\u001B[0m: The SAT solver returned a UNSAT problem"
     ]
    }
   ],
   "source": [
    "%%time\n",
    "solver(\"Exemples/test3.txt\", 2, convert_to_3sat=True, local=False)"
   ],
   "metadata": {
    "collapsed": false,
    "pycharm": {
     "name": "#%%\n"
    }
   }
  },
  {
   "cell_type": "markdown",
   "source": [
    "## And finally using the unsat grid :"
   ],
   "metadata": {
    "collapsed": false,
    "pycharm": {
     "name": "#%% md\n"
    }
   }
  },
  {
   "cell_type": "code",
   "execution_count": 31,
   "outputs": [
    {
     "data": {
      "text/plain": "<IPython.core.display.Markdown object>",
      "text/markdown": "## Starbattle Solver\n#### Original grid\n"
     },
     "metadata": {},
     "output_type": "display_data"
    },
    {
     "data": {
      "image/png": "[encoded data removed]",
      "text/plain": "<IPython.core.display.Image object>"
     },
     "metadata": {},
     "output_type": "display_data"
    },
    {
     "data": {
      "text/plain": "<IPython.core.display.HTML object>",
      "text/html": "<div class=\"tenor-gif-embed\" data-postid=\"21948754\" data-share-method=\"host\" data-aspect-ratio=\"1\" data-width=\"20%\"><a href=\"https://tenor.com/view/sad-cute-cat-gif-21948754\">Sad Cute Cat Sticker</a>from <a href=\"https://tenor.com/search/sad-stickers\">Sad Stickers</a></div> <script type=\"text/javascript\" async src=\"https://tenor.com/embed.js\"></script>"
     },
     "metadata": {},
     "output_type": "display_data"
    },
    {
     "ename": "ValueError",
     "evalue": "The SAT solver returned a UNSAT problem",
     "output_type": "error",
     "traceback": [
      "\u001B[1;31m---------------------------------------------------------------------------\u001B[0m",
      "\u001B[1;31mValueError\u001B[0m                                Traceback (most recent call last)",
      "File \u001B[1;32m<timed eval>:1\u001B[0m, in \u001B[0;36m<module>\u001B[1;34m\u001B[0m\n",
      "Input \u001B[1;32mIn [24]\u001B[0m, in \u001B[0;36msolver\u001B[1;34m(path, n, convert_to_3sat, local)\u001B[0m\n\u001B[0;32m    183\u001B[0m \u001B[38;5;28;01mif\u001B[39;00m ret_state \u001B[38;5;241m==\u001B[39m \u001B[38;5;241m20\u001B[39m:  \u001B[38;5;66;03m# The solver is UNSAT\u001B[39;00m\n\u001B[0;32m    184\u001B[0m     display(UNSAT_GIF)\n\u001B[1;32m--> 185\u001B[0m     \u001B[38;5;28;01mraise\u001B[39;00m \u001B[38;5;167;01mValueError\u001B[39;00m(\u001B[38;5;124m\"\u001B[39m\u001B[38;5;124mThe SAT solver returned a UNSAT problem\u001B[39m\u001B[38;5;124m\"\u001B[39m)\n\u001B[0;32m    186\u001B[0m \u001B[38;5;28;01melif\u001B[39;00m ret_state \u001B[38;5;241m!=\u001B[39m \u001B[38;5;241m10\u001B[39m:  \u001B[38;5;66;03m# The solver return an error\u001B[39;00m\n\u001B[0;32m    187\u001B[0m     display(ERROR_GIF)\n",
      "\u001B[1;31mValueError\u001B[0m: The SAT solver returned a UNSAT problem"
     ]
    }
   ],
   "source": [
    "%%time\n",
    "solver(\"Exemples/test6.txt\", 1, convert_to_3sat=False, local=False)"
   ],
   "metadata": {
    "collapsed": false,
    "pycharm": {
     "name": "#%%\n"
    }
   }
  },
  {
   "cell_type": "markdown",
   "source": [
    "## Some time testing comparing locat SAT solver with minisat :"
   ],
   "metadata": {
    "collapsed": false,
    "pycharm": {
     "name": "#%% md\n"
    }
   }
  },
  {
   "cell_type": "code",
   "execution_count": 32,
   "outputs": [
    {
     "data": {
      "text/plain": "<IPython.core.display.Markdown object>",
      "text/markdown": "## Starbattle Solver\n#### Solved grid (generated with 1264 clauses)\n"
     },
     "metadata": {},
     "output_type": "display_data"
    },
    {
     "data": {
      "image/png": "[encoded data removed]",
      "text/plain": "<IPython.core.display.Image object>"
     },
     "metadata": {},
     "output_type": "display_data"
    },
    {
     "name": "stdout",
     "output_type": "stream",
     "text": [
      "239 ms ± 32.7 ms per loop (mean ± std. dev. of 7 runs, 20 loops each)\n"
     ]
    }
   ],
   "source": [
    "%%timeit -n 20\n",
    "solver(\"Exemples/test5.txt\", 1, convert_to_3sat=False, local=True)"
   ],
   "metadata": {
    "collapsed": false,
    "pycharm": {
     "name": "#%%\n"
    }
   }
  },
  {
   "cell_type": "code",
   "execution_count": 33,
   "outputs": [
    {
     "data": {
      "text/plain": "<IPython.core.display.Markdown object>",
      "text/markdown": "## Starbattle Solver\n#### Solved grid (generated with 1264 clauses)\n"
     },
     "metadata": {},
     "output_type": "display_data"
    },
    {
     "data": {
      "image/png": "[encoded data removed]",
      "text/plain": "<IPython.core.display.Image object>"
     },
     "metadata": {},
     "output_type": "display_data"
    },
    {
     "name": "stdout",
     "output_type": "stream",
     "text": [
      "241 ms ± 12.3 ms per loop (mean ± std. dev. of 7 runs, 20 loops each)\n"
     ]
    }
   ],
   "source": [
    "%%timeit -n 20\n",
    "solver(\"Exemples/test5.txt\", 1, convert_to_3sat=False, local=False)"
   ],
   "metadata": {
    "collapsed": false,
    "pycharm": {
     "name": "#%%\n"
    }
   }
  },
  {
   "cell_type": "markdown",
   "source": [
    "The times seem to be comparable, but when moving to larger grids the local solver seems to be much slower, also for the case where there is no solution, the local solver does not guarantee that there is no solution and when there is not, it can run for a long time."
   ],
   "metadata": {
    "collapsed": false,
    "pycharm": {
     "name": "#%% md\n"
    }
   }
  }
 ],
 "metadata": {
  "kernelspec": {
   "display_name": "Python 3",
   "language": "python",
   "name": "python3"
  },
  "language_info": {
   "codemirror_mode": {
    "name": "ipython",
    "version": 2
   },
   "file_extension": ".py",
   "mimetype": "text/x-python",
   "name": "python",
   "nbconvert_exporter": "python",
   "pygments_lexer": "ipython2",
   "version": "2.7.6"
  }
 },
 "nbformat": 4,
 "nbformat_minor": 0
}